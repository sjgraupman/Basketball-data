{
 "cells": [
  {
   "cell_type": "code",
   "execution_count": 116,
   "metadata": {
    "collapsed": true
   },
   "outputs": [],
   "source": [
    "import pandas as pd\n",
    "import matplotlib.pyplot as plt\n",
    "import numpy as np\n",
    "%matplotlib inline"
   ]
  },
  {
   "cell_type": "code",
   "execution_count": 122,
   "metadata": {},
   "outputs": [
    {
     "data": {
      "text/html": [
       "<div>\n",
       "<style>\n",
       "    .dataframe thead tr:only-child th {\n",
       "        text-align: right;\n",
       "    }\n",
       "\n",
       "    .dataframe thead th {\n",
       "        text-align: left;\n",
       "    }\n",
       "\n",
       "    .dataframe tbody tr th {\n",
       "        vertical-align: top;\n",
       "    }\n",
       "</style>\n",
       "<table border=\"1\" class=\"dataframe\">\n",
       "  <thead>\n",
       "    <tr style=\"text-align: right;\">\n",
       "      <th></th>\n",
       "      <th>TeamName</th>\n",
       "      <th>FirstD1Season</th>\n",
       "      <th>LastD1Season</th>\n",
       "    </tr>\n",
       "    <tr>\n",
       "      <th>TeamID</th>\n",
       "      <th></th>\n",
       "      <th></th>\n",
       "      <th></th>\n",
       "    </tr>\n",
       "  </thead>\n",
       "  <tbody>\n",
       "    <tr>\n",
       "      <th>1101</th>\n",
       "      <td>Abilene Chr</td>\n",
       "      <td>2014</td>\n",
       "      <td>2019</td>\n",
       "    </tr>\n",
       "    <tr>\n",
       "      <th>1102</th>\n",
       "      <td>Air Force</td>\n",
       "      <td>1985</td>\n",
       "      <td>2019</td>\n",
       "    </tr>\n",
       "    <tr>\n",
       "      <th>1103</th>\n",
       "      <td>Akron</td>\n",
       "      <td>1985</td>\n",
       "      <td>2019</td>\n",
       "    </tr>\n",
       "    <tr>\n",
       "      <th>1104</th>\n",
       "      <td>Alabama</td>\n",
       "      <td>1985</td>\n",
       "      <td>2019</td>\n",
       "    </tr>\n",
       "    <tr>\n",
       "      <th>1105</th>\n",
       "      <td>Alabama A&amp;M</td>\n",
       "      <td>2000</td>\n",
       "      <td>2019</td>\n",
       "    </tr>\n",
       "  </tbody>\n",
       "</table>\n",
       "</div>"
      ],
      "text/plain": [
       "           TeamName  FirstD1Season  LastD1Season\n",
       "TeamID                                          \n",
       "1101    Abilene Chr           2014          2019\n",
       "1102      Air Force           1985          2019\n",
       "1103          Akron           1985          2019\n",
       "1104        Alabama           1985          2019\n",
       "1105    Alabama A&M           2000          2019"
      ]
     },
     "execution_count": 122,
     "metadata": {},
     "output_type": "execute_result"
    }
   ],
   "source": [
    "# Read in Teams\n",
    "teams = pd.read_csv(\"MensBBall\\Teams.csv\", index_col=0)\n",
    "teams.head()"
   ]
  },
  {
   "cell_type": "code",
   "execution_count": 123,
   "metadata": {},
   "outputs": [
    {
     "data": {
      "text/html": [
       "<div>\n",
       "<style>\n",
       "    .dataframe thead tr:only-child th {\n",
       "        text-align: right;\n",
       "    }\n",
       "\n",
       "    .dataframe thead th {\n",
       "        text-align: left;\n",
       "    }\n",
       "\n",
       "    .dataframe tbody tr th {\n",
       "        vertical-align: top;\n",
       "    }\n",
       "</style>\n",
       "<table border=\"1\" class=\"dataframe\">\n",
       "  <thead>\n",
       "    <tr style=\"text-align: right;\">\n",
       "      <th></th>\n",
       "      <th>Season</th>\n",
       "      <th>DayNum</th>\n",
       "      <th>WTeamID</th>\n",
       "      <th>WScore</th>\n",
       "      <th>LTeamID</th>\n",
       "      <th>LScore</th>\n",
       "      <th>WLoc</th>\n",
       "      <th>NumOT</th>\n",
       "    </tr>\n",
       "  </thead>\n",
       "  <tbody>\n",
       "    <tr>\n",
       "      <th>0</th>\n",
       "      <td>1985</td>\n",
       "      <td>20</td>\n",
       "      <td>1228</td>\n",
       "      <td>81</td>\n",
       "      <td>1328</td>\n",
       "      <td>64</td>\n",
       "      <td>N</td>\n",
       "      <td>0</td>\n",
       "    </tr>\n",
       "    <tr>\n",
       "      <th>1</th>\n",
       "      <td>1985</td>\n",
       "      <td>25</td>\n",
       "      <td>1106</td>\n",
       "      <td>77</td>\n",
       "      <td>1354</td>\n",
       "      <td>70</td>\n",
       "      <td>H</td>\n",
       "      <td>0</td>\n",
       "    </tr>\n",
       "    <tr>\n",
       "      <th>2</th>\n",
       "      <td>1985</td>\n",
       "      <td>25</td>\n",
       "      <td>1112</td>\n",
       "      <td>63</td>\n",
       "      <td>1223</td>\n",
       "      <td>56</td>\n",
       "      <td>H</td>\n",
       "      <td>0</td>\n",
       "    </tr>\n",
       "    <tr>\n",
       "      <th>3</th>\n",
       "      <td>1985</td>\n",
       "      <td>25</td>\n",
       "      <td>1165</td>\n",
       "      <td>70</td>\n",
       "      <td>1432</td>\n",
       "      <td>54</td>\n",
       "      <td>H</td>\n",
       "      <td>0</td>\n",
       "    </tr>\n",
       "    <tr>\n",
       "      <th>4</th>\n",
       "      <td>1985</td>\n",
       "      <td>25</td>\n",
       "      <td>1192</td>\n",
       "      <td>86</td>\n",
       "      <td>1447</td>\n",
       "      <td>74</td>\n",
       "      <td>H</td>\n",
       "      <td>0</td>\n",
       "    </tr>\n",
       "  </tbody>\n",
       "</table>\n",
       "</div>"
      ],
      "text/plain": [
       "   Season  DayNum  WTeamID  WScore  LTeamID  LScore WLoc  NumOT\n",
       "0    1985      20     1228      81     1328      64    N      0\n",
       "1    1985      25     1106      77     1354      70    H      0\n",
       "2    1985      25     1112      63     1223      56    H      0\n",
       "3    1985      25     1165      70     1432      54    H      0\n",
       "4    1985      25     1192      86     1447      74    H      0"
      ]
     },
     "execution_count": 123,
     "metadata": {},
     "output_type": "execute_result"
    }
   ],
   "source": [
    "# Read in Regular Season Results\n",
    "regularSeasonResults = pd.read_csv(\"MensBBall\\RegularSeasonCompactResults.csv\")\n",
    "regularSeasonResults.head()"
   ]
  },
  {
   "cell_type": "code",
   "execution_count": 124,
   "metadata": {
    "scrolled": true
   },
   "outputs": [
    {
     "data": {
      "text/html": [
       "<div>\n",
       "<style>\n",
       "    .dataframe thead tr:only-child th {\n",
       "        text-align: right;\n",
       "    }\n",
       "\n",
       "    .dataframe thead th {\n",
       "        text-align: left;\n",
       "    }\n",
       "\n",
       "    .dataframe tbody tr th {\n",
       "        vertical-align: top;\n",
       "    }\n",
       "</style>\n",
       "<table border=\"1\" class=\"dataframe\">\n",
       "  <thead>\n",
       "    <tr style=\"text-align: right;\">\n",
       "      <th></th>\n",
       "      <th>Season</th>\n",
       "      <th>WTeamID</th>\n",
       "      <th>WScore</th>\n",
       "      <th>LTeamID</th>\n",
       "      <th>LScore</th>\n",
       "      <th>WLoc</th>\n",
       "      <th>NumOT</th>\n",
       "    </tr>\n",
       "  </thead>\n",
       "  <tbody>\n",
       "    <tr>\n",
       "      <th>134566</th>\n",
       "      <td>2015</td>\n",
       "      <td>1103</td>\n",
       "      <td>74</td>\n",
       "      <td>1420</td>\n",
       "      <td>57</td>\n",
       "      <td>H</td>\n",
       "      <td>0</td>\n",
       "    </tr>\n",
       "    <tr>\n",
       "      <th>134567</th>\n",
       "      <td>2015</td>\n",
       "      <td>1104</td>\n",
       "      <td>82</td>\n",
       "      <td>1406</td>\n",
       "      <td>54</td>\n",
       "      <td>H</td>\n",
       "      <td>0</td>\n",
       "    </tr>\n",
       "    <tr>\n",
       "      <th>134568</th>\n",
       "      <td>2015</td>\n",
       "      <td>1112</td>\n",
       "      <td>78</td>\n",
       "      <td>1291</td>\n",
       "      <td>55</td>\n",
       "      <td>H</td>\n",
       "      <td>0</td>\n",
       "    </tr>\n",
       "    <tr>\n",
       "      <th>134569</th>\n",
       "      <td>2015</td>\n",
       "      <td>1113</td>\n",
       "      <td>86</td>\n",
       "      <td>1152</td>\n",
       "      <td>50</td>\n",
       "      <td>H</td>\n",
       "      <td>0</td>\n",
       "    </tr>\n",
       "    <tr>\n",
       "      <th>134570</th>\n",
       "      <td>2015</td>\n",
       "      <td>1119</td>\n",
       "      <td>84</td>\n",
       "      <td>1102</td>\n",
       "      <td>78</td>\n",
       "      <td>H</td>\n",
       "      <td>0</td>\n",
       "    </tr>\n",
       "  </tbody>\n",
       "</table>\n",
       "</div>"
      ],
      "text/plain": [
       "        Season  WTeamID  WScore  LTeamID  LScore WLoc  NumOT\n",
       "134566    2015     1103      74     1420      57    H      0\n",
       "134567    2015     1104      82     1406      54    H      0\n",
       "134568    2015     1112      78     1291      55    H      0\n",
       "134569    2015     1113      86     1152      50    H      0\n",
       "134570    2015     1119      84     1102      78    H      0"
      ]
     },
     "execution_count": 124,
     "metadata": {},
     "output_type": "execute_result"
    }
   ],
   "source": [
    "# Get rid of DayNum and limit to 2014 or later\n",
    "regularSeasonResults.drop(labels = ['DayNum'], inplace = True, axis = 1)\n",
    "regularSeasonResults = regularSeasonResults[regularSeasonResults['Season'] > 2014]\n",
    "regularSeasonResults.head()"
   ]
  },
  {
   "cell_type": "code",
   "execution_count": 125,
   "metadata": {},
   "outputs": [
    {
     "data": {
      "text/html": [
       "<div>\n",
       "<style>\n",
       "    .dataframe thead tr:only-child th {\n",
       "        text-align: right;\n",
       "    }\n",
       "\n",
       "    .dataframe thead th {\n",
       "        text-align: left;\n",
       "    }\n",
       "\n",
       "    .dataframe tbody tr th {\n",
       "        vertical-align: top;\n",
       "    }\n",
       "</style>\n",
       "<table border=\"1\" class=\"dataframe\">\n",
       "  <thead>\n",
       "    <tr style=\"text-align: right;\">\n",
       "      <th></th>\n",
       "      <th>Season</th>\n",
       "      <th>WTeamID</th>\n",
       "      <th>WScore</th>\n",
       "      <th>LTeamID</th>\n",
       "      <th>LScore</th>\n",
       "      <th>WLoc</th>\n",
       "      <th>NumOT</th>\n",
       "    </tr>\n",
       "  </thead>\n",
       "  <tbody>\n",
       "    <tr>\n",
       "      <th>134587</th>\n",
       "      <td>2015</td>\n",
       "      <td>1166</td>\n",
       "      <td>104</td>\n",
       "      <td>1146</td>\n",
       "      <td>77</td>\n",
       "      <td>H</td>\n",
       "      <td>0</td>\n",
       "    </tr>\n",
       "    <tr>\n",
       "      <th>134590</th>\n",
       "      <td>2015</td>\n",
       "      <td>1181</td>\n",
       "      <td>113</td>\n",
       "      <td>1342</td>\n",
       "      <td>44</td>\n",
       "      <td>H</td>\n",
       "      <td>0</td>\n",
       "    </tr>\n",
       "    <tr>\n",
       "      <th>134599</th>\n",
       "      <td>2015</td>\n",
       "      <td>1211</td>\n",
       "      <td>104</td>\n",
       "      <td>1170</td>\n",
       "      <td>58</td>\n",
       "      <td>H</td>\n",
       "      <td>0</td>\n",
       "    </tr>\n",
       "    <tr>\n",
       "      <th>134605</th>\n",
       "      <td>2015</td>\n",
       "      <td>1231</td>\n",
       "      <td>116</td>\n",
       "      <td>1290</td>\n",
       "      <td>65</td>\n",
       "      <td>H</td>\n",
       "      <td>0</td>\n",
       "    </tr>\n",
       "    <tr>\n",
       "      <th>134633</th>\n",
       "      <td>2015</td>\n",
       "      <td>1332</td>\n",
       "      <td>107</td>\n",
       "      <td>1164</td>\n",
       "      <td>65</td>\n",
       "      <td>H</td>\n",
       "      <td>0</td>\n",
       "    </tr>\n",
       "  </tbody>\n",
       "</table>\n",
       "</div>"
      ],
      "text/plain": [
       "        Season  WTeamID  WScore  LTeamID  LScore WLoc  NumOT\n",
       "134587    2015     1166     104     1146      77    H      0\n",
       "134590    2015     1181     113     1342      44    H      0\n",
       "134599    2015     1211     104     1170      58    H      0\n",
       "134605    2015     1231     116     1290      65    H      0\n",
       "134633    2015     1332     107     1164      65    H      0"
      ]
     },
     "execution_count": 125,
     "metadata": {},
     "output_type": "execute_result"
    }
   ],
   "source": [
    "# highest scoring games\n",
    "highScores = regularSeasonResults[regularSeasonResults['WScore'] > 100]\n",
    "highScores.head()"
   ]
  },
  {
   "cell_type": "code",
   "execution_count": 126,
   "metadata": {
    "scrolled": false
   },
   "outputs": [
    {
     "data": {
      "text/html": [
       "<div>\n",
       "<style>\n",
       "    .dataframe thead tr:only-child th {\n",
       "        text-align: right;\n",
       "    }\n",
       "\n",
       "    .dataframe thead th {\n",
       "        text-align: left;\n",
       "    }\n",
       "\n",
       "    .dataframe tbody tr th {\n",
       "        vertical-align: top;\n",
       "    }\n",
       "</style>\n",
       "<table border=\"1\" class=\"dataframe\">\n",
       "  <thead>\n",
       "    <tr style=\"text-align: right;\">\n",
       "      <th></th>\n",
       "      <th>Season</th>\n",
       "      <th>WTeamID</th>\n",
       "      <th>WScore</th>\n",
       "      <th>LTeamID</th>\n",
       "      <th>LScore</th>\n",
       "      <th>WLoc</th>\n",
       "      <th>NumOT</th>\n",
       "    </tr>\n",
       "  </thead>\n",
       "  <tbody>\n",
       "    <tr>\n",
       "      <th>134653</th>\n",
       "      <td>2015</td>\n",
       "      <td>1396</td>\n",
       "      <td>40</td>\n",
       "      <td>1110</td>\n",
       "      <td>37</td>\n",
       "      <td>H</td>\n",
       "      <td>0</td>\n",
       "    </tr>\n",
       "    <tr>\n",
       "      <th>134755</th>\n",
       "      <td>2015</td>\n",
       "      <td>1110</td>\n",
       "      <td>49</td>\n",
       "      <td>1384</td>\n",
       "      <td>46</td>\n",
       "      <td>H</td>\n",
       "      <td>0</td>\n",
       "    </tr>\n",
       "    <tr>\n",
       "      <th>134756</th>\n",
       "      <td>2015</td>\n",
       "      <td>1113</td>\n",
       "      <td>49</td>\n",
       "      <td>1126</td>\n",
       "      <td>39</td>\n",
       "      <td>H</td>\n",
       "      <td>0</td>\n",
       "    </tr>\n",
       "    <tr>\n",
       "      <th>134862</th>\n",
       "      <td>2015</td>\n",
       "      <td>1259</td>\n",
       "      <td>45</td>\n",
       "      <td>1420</td>\n",
       "      <td>38</td>\n",
       "      <td>H</td>\n",
       "      <td>0</td>\n",
       "    </tr>\n",
       "    <tr>\n",
       "      <th>135249</th>\n",
       "      <td>2015</td>\n",
       "      <td>1257</td>\n",
       "      <td>45</td>\n",
       "      <td>1156</td>\n",
       "      <td>33</td>\n",
       "      <td>H</td>\n",
       "      <td>0</td>\n",
       "    </tr>\n",
       "  </tbody>\n",
       "</table>\n",
       "</div>"
      ],
      "text/plain": [
       "        Season  WTeamID  WScore  LTeamID  LScore WLoc  NumOT\n",
       "134653    2015     1396      40     1110      37    H      0\n",
       "134755    2015     1110      49     1384      46    H      0\n",
       "134756    2015     1113      49     1126      39    H      0\n",
       "134862    2015     1259      45     1420      38    H      0\n",
       "135249    2015     1257      45     1156      33    H      0"
      ]
     },
     "execution_count": 126,
     "metadata": {},
     "output_type": "execute_result"
    }
   ],
   "source": [
    "# Lowest Scoring Games\n",
    "lowScores = regularSeasonResults[regularSeasonResults['WScore'] < 50]\n",
    "lowScores.head()"
   ]
  },
  {
   "cell_type": "code",
   "execution_count": 127,
   "metadata": {},
   "outputs": [],
   "source": [
    "def getTeamID(teamName):\n",
    "    teamRecord = teams[teams['TeamName'] == teamName].index.values.astype(int)[0];\n",
    "    return (teamRecord)\n",
    "\n",
    "def getTeamName(teamID):\n",
    "    return teams.loc[teamID].TeamName\n",
    "\n",
    "marquetteID = getTeamID('Marquette');"
   ]
  },
  {
   "cell_type": "code",
   "execution_count": null,
   "metadata": {},
   "outputs": [],
   "source": []
  },
  {
   "cell_type": "code",
   "execution_count": 128,
   "metadata": {
    "collapsed": true
   },
   "outputs": [],
   "source": [
    "def getWinningGames(teamID, gameResults): \n",
    "    return gameResults[gameResults['WTeamID'] == teamID]\n",
    "\n",
    "def getLosingGames(teamID, gameResults):\n",
    "    return gameResults[gameResults['LTeamID'] == teamID]\n",
    "\n",
    "def getRecord(teamID, gameResults):\n",
    "    winners = getWinningGames(teamID, gameResults)\n",
    "    losers = getLosingGames(teamID, gameResults)\n",
    "    return winners.append(losers)\n",
    "    \n",
    "def addWinColumn(teamID, teamResults):\n",
    "    teamResults['Win'] = (teamResults['WTeamID'] == teamID)\n",
    "    return teamResults\n",
    "\n",
    "def addDifferenceColumn(results):\n",
    "    results['Difference'] = results.WScore - results.LScore\n",
    "    return results"
   ]
  },
  {
   "cell_type": "code",
   "execution_count": 129,
   "metadata": {},
   "outputs": [
    {
     "name": "stdout",
     "output_type": "stream",
     "text": [
      "1266\n"
     ]
    }
   ],
   "source": [
    "print(marquetteID)"
   ]
  },
  {
   "cell_type": "code",
   "execution_count": 130,
   "metadata": {},
   "outputs": [
    {
     "data": {
      "text/html": [
       "<div>\n",
       "<style>\n",
       "    .dataframe thead tr:only-child th {\n",
       "        text-align: right;\n",
       "    }\n",
       "\n",
       "    .dataframe thead th {\n",
       "        text-align: left;\n",
       "    }\n",
       "\n",
       "    .dataframe tbody tr th {\n",
       "        vertical-align: top;\n",
       "    }\n",
       "</style>\n",
       "<table border=\"1\" class=\"dataframe\">\n",
       "  <thead>\n",
       "    <tr style=\"text-align: right;\">\n",
       "      <th></th>\n",
       "      <th>Season</th>\n",
       "      <th>WTeamID</th>\n",
       "      <th>WScore</th>\n",
       "      <th>LTeamID</th>\n",
       "      <th>LScore</th>\n",
       "      <th>WLoc</th>\n",
       "      <th>NumOT</th>\n",
       "    </tr>\n",
       "  </thead>\n",
       "  <tbody>\n",
       "    <tr>\n",
       "      <th>134829</th>\n",
       "      <td>2015</td>\n",
       "      <td>1326</td>\n",
       "      <td>74</td>\n",
       "      <td>1266</td>\n",
       "      <td>63</td>\n",
       "      <td>H</td>\n",
       "      <td>0</td>\n",
       "    </tr>\n",
       "    <tr>\n",
       "      <th>135020</th>\n",
       "      <td>2015</td>\n",
       "      <td>1303</td>\n",
       "      <td>97</td>\n",
       "      <td>1266</td>\n",
       "      <td>89</td>\n",
       "      <td>A</td>\n",
       "      <td>0</td>\n",
       "    </tr>\n",
       "    <tr>\n",
       "      <th>135334</th>\n",
       "      <td>2015</td>\n",
       "      <td>1277</td>\n",
       "      <td>79</td>\n",
       "      <td>1266</td>\n",
       "      <td>68</td>\n",
       "      <td>N</td>\n",
       "      <td>0</td>\n",
       "    </tr>\n",
       "    <tr>\n",
       "      <th>135754</th>\n",
       "      <td>2015</td>\n",
       "      <td>1458</td>\n",
       "      <td>49</td>\n",
       "      <td>1266</td>\n",
       "      <td>38</td>\n",
       "      <td>A</td>\n",
       "      <td>0</td>\n",
       "    </tr>\n",
       "    <tr>\n",
       "      <th>136544</th>\n",
       "      <td>2015</td>\n",
       "      <td>1177</td>\n",
       "      <td>61</td>\n",
       "      <td>1266</td>\n",
       "      <td>58</td>\n",
       "      <td>H</td>\n",
       "      <td>0</td>\n",
       "    </tr>\n",
       "  </tbody>\n",
       "</table>\n",
       "</div>"
      ],
      "text/plain": [
       "        Season  WTeamID  WScore  LTeamID  LScore WLoc  NumOT\n",
       "134829    2015     1326      74     1266      63    H      0\n",
       "135020    2015     1303      97     1266      89    A      0\n",
       "135334    2015     1277      79     1266      68    N      0\n",
       "135754    2015     1458      49     1266      38    A      0\n",
       "136544    2015     1177      61     1266      58    H      0"
      ]
     },
     "execution_count": 130,
     "metadata": {},
     "output_type": "execute_result"
    }
   ],
   "source": [
    "muRecordL = getLosingGames(marquetteID, regularSeasonResults)\n",
    "muRecordW = getWinningGames(marquetteID, regularSeasonResults)\n",
    "muRecordL.head()"
   ]
  },
  {
   "cell_type": "code",
   "execution_count": 131,
   "metadata": {},
   "outputs": [
    {
     "data": {
      "text/html": [
       "<div>\n",
       "<style>\n",
       "    .dataframe thead tr:only-child th {\n",
       "        text-align: right;\n",
       "    }\n",
       "\n",
       "    .dataframe thead th {\n",
       "        text-align: left;\n",
       "    }\n",
       "\n",
       "    .dataframe tbody tr th {\n",
       "        vertical-align: top;\n",
       "    }\n",
       "</style>\n",
       "<table border=\"1\" class=\"dataframe\">\n",
       "  <thead>\n",
       "    <tr style=\"text-align: right;\">\n",
       "      <th></th>\n",
       "      <th>Season</th>\n",
       "      <th>WTeamID</th>\n",
       "      <th>WScore</th>\n",
       "      <th>LTeamID</th>\n",
       "      <th>LScore</th>\n",
       "      <th>WLoc</th>\n",
       "      <th>NumOT</th>\n",
       "    </tr>\n",
       "  </thead>\n",
       "  <tbody>\n",
       "    <tr>\n",
       "      <th>134617</th>\n",
       "      <td>2015</td>\n",
       "      <td>1266</td>\n",
       "      <td>79</td>\n",
       "      <td>1404</td>\n",
       "      <td>63</td>\n",
       "      <td>H</td>\n",
       "      <td>0</td>\n",
       "    </tr>\n",
       "    <tr>\n",
       "      <th>135133</th>\n",
       "      <td>2015</td>\n",
       "      <td>1266</td>\n",
       "      <td>62</td>\n",
       "      <td>1312</td>\n",
       "      <td>57</td>\n",
       "      <td>H</td>\n",
       "      <td>0</td>\n",
       "    </tr>\n",
       "    <tr>\n",
       "      <th>135295</th>\n",
       "      <td>2015</td>\n",
       "      <td>1266</td>\n",
       "      <td>72</td>\n",
       "      <td>1210</td>\n",
       "      <td>70</td>\n",
       "      <td>N</td>\n",
       "      <td>0</td>\n",
       "    </tr>\n",
       "    <tr>\n",
       "      <th>135460</th>\n",
       "      <td>2015</td>\n",
       "      <td>1266</td>\n",
       "      <td>67</td>\n",
       "      <td>1397</td>\n",
       "      <td>59</td>\n",
       "      <td>N</td>\n",
       "      <td>0</td>\n",
       "    </tr>\n",
       "    <tr>\n",
       "      <th>136027</th>\n",
       "      <td>2015</td>\n",
       "      <td>1266</td>\n",
       "      <td>78</td>\n",
       "      <td>1113</td>\n",
       "      <td>71</td>\n",
       "      <td>H</td>\n",
       "      <td>0</td>\n",
       "    </tr>\n",
       "  </tbody>\n",
       "</table>\n",
       "</div>"
      ],
      "text/plain": [
       "        Season  WTeamID  WScore  LTeamID  LScore WLoc  NumOT\n",
       "134617    2015     1266      79     1404      63    H      0\n",
       "135133    2015     1266      62     1312      57    H      0\n",
       "135295    2015     1266      72     1210      70    N      0\n",
       "135460    2015     1266      67     1397      59    N      0\n",
       "136027    2015     1266      78     1113      71    H      0"
      ]
     },
     "execution_count": 131,
     "metadata": {},
     "output_type": "execute_result"
    }
   ],
   "source": [
    "muRecord = getRecord(marquetteID, regularSeasonResults);\n",
    "muRecord.head()"
   ]
  },
  {
   "cell_type": "code",
   "execution_count": 132,
   "metadata": {},
   "outputs": [
    {
     "data": {
      "text/html": [
       "<div>\n",
       "<style>\n",
       "    .dataframe thead tr:only-child th {\n",
       "        text-align: right;\n",
       "    }\n",
       "\n",
       "    .dataframe thead th {\n",
       "        text-align: left;\n",
       "    }\n",
       "\n",
       "    .dataframe tbody tr th {\n",
       "        vertical-align: top;\n",
       "    }\n",
       "</style>\n",
       "<table border=\"1\" class=\"dataframe\">\n",
       "  <thead>\n",
       "    <tr style=\"text-align: right;\">\n",
       "      <th></th>\n",
       "      <th>Season</th>\n",
       "      <th>WTeamID</th>\n",
       "      <th>WScore</th>\n",
       "      <th>LTeamID</th>\n",
       "      <th>LScore</th>\n",
       "      <th>WLoc</th>\n",
       "      <th>NumOT</th>\n",
       "      <th>Win</th>\n",
       "    </tr>\n",
       "  </thead>\n",
       "  <tbody>\n",
       "    <tr>\n",
       "      <th>134617</th>\n",
       "      <td>2015</td>\n",
       "      <td>1266</td>\n",
       "      <td>79</td>\n",
       "      <td>1404</td>\n",
       "      <td>63</td>\n",
       "      <td>H</td>\n",
       "      <td>0</td>\n",
       "      <td>True</td>\n",
       "    </tr>\n",
       "    <tr>\n",
       "      <th>135133</th>\n",
       "      <td>2015</td>\n",
       "      <td>1266</td>\n",
       "      <td>62</td>\n",
       "      <td>1312</td>\n",
       "      <td>57</td>\n",
       "      <td>H</td>\n",
       "      <td>0</td>\n",
       "      <td>True</td>\n",
       "    </tr>\n",
       "    <tr>\n",
       "      <th>135295</th>\n",
       "      <td>2015</td>\n",
       "      <td>1266</td>\n",
       "      <td>72</td>\n",
       "      <td>1210</td>\n",
       "      <td>70</td>\n",
       "      <td>N</td>\n",
       "      <td>0</td>\n",
       "      <td>True</td>\n",
       "    </tr>\n",
       "    <tr>\n",
       "      <th>135460</th>\n",
       "      <td>2015</td>\n",
       "      <td>1266</td>\n",
       "      <td>67</td>\n",
       "      <td>1397</td>\n",
       "      <td>59</td>\n",
       "      <td>N</td>\n",
       "      <td>0</td>\n",
       "      <td>True</td>\n",
       "    </tr>\n",
       "    <tr>\n",
       "      <th>136027</th>\n",
       "      <td>2015</td>\n",
       "      <td>1266</td>\n",
       "      <td>78</td>\n",
       "      <td>1113</td>\n",
       "      <td>71</td>\n",
       "      <td>H</td>\n",
       "      <td>0</td>\n",
       "      <td>True</td>\n",
       "    </tr>\n",
       "  </tbody>\n",
       "</table>\n",
       "</div>"
      ],
      "text/plain": [
       "        Season  WTeamID  WScore  LTeamID  LScore WLoc  NumOT   Win\n",
       "134617    2015     1266      79     1404      63    H      0  True\n",
       "135133    2015     1266      62     1312      57    H      0  True\n",
       "135295    2015     1266      72     1210      70    N      0  True\n",
       "135460    2015     1266      67     1397      59    N      0  True\n",
       "136027    2015     1266      78     1113      71    H      0  True"
      ]
     },
     "execution_count": 132,
     "metadata": {},
     "output_type": "execute_result"
    }
   ],
   "source": [
    "muRecord = addWinColumn(marquetteID, muRecord)\n",
    "muRecord.head()"
   ]
  },
  {
   "cell_type": "code",
   "execution_count": 133,
   "metadata": {},
   "outputs": [
    {
     "data": {
      "text/plain": [
       "<matplotlib.collections.PathCollection at 0x244387eff28>"
      ]
     },
     "execution_count": 133,
     "metadata": {},
     "output_type": "execute_result"
    },
    {
     "data": {
      "image/png": "[encoded data removed]",
      "text/plain": [
       "<matplotlib.figure.Figure at 0x2443878fdd8>"
      ]
     },
     "metadata": {},
     "output_type": "display_data"
    }
   ],
   "source": [
    "colors = ['g', 'r']\n",
    "plt.scatter(muRecordW.WScore, muRecordW.LScore, c = 'g')\n",
    "plt.scatter(muRecordL.WScore, muRecordL.LScore, c = 'r')"
   ]
  },
  {
   "cell_type": "code",
   "execution_count": 134,
   "metadata": {},
   "outputs": [
    {
     "name": "stderr",
     "output_type": "stream",
     "text": [
      "C:\\Users\\sarah\\Anaconda3\\lib\\site-packages\\ipykernel_launcher.py:17: SettingWithCopyWarning: \n",
      "A value is trying to be set on a copy of a slice from a DataFrame.\n",
      "Try using .loc[row_indexer,col_indexer] = value instead\n",
      "\n",
      "See the caveats in the documentation: http://pandas.pydata.org/pandas-docs/stable/indexing.html#indexing-view-versus-copy\n"
     ]
    },
    {
     "data": {
      "text/plain": [
       "(array([ 15.,   4.,  18.,   3.,   4.,  10.,   1.,   1.,   0.,   1.]),\n",
       " array([  1. ,   4.4,   7.8,  11.2,  14.6,  18. ,  21.4,  24.8,  28.2,\n",
       "         31.6,  35. ]),\n",
       " <a list of 10 Patch objects>)"
      ]
     },
     "execution_count": 134,
     "metadata": {},
     "output_type": "execute_result"
    },
    {
     "data": {
      "image/png": "[encoded data removed]",
      "text/plain": [
       "<matplotlib.figure.Figure at 0x244386809b0>"
      ]
     },
     "metadata": {},
     "output_type": "display_data"
    }
   ],
   "source": [
    "muRecordL = addDifferenceColumn(muRecordL)\n",
    "plt.hist(muRecordL.Difference)"
   ]
  },
  {
   "cell_type": "code",
   "execution_count": 135,
   "metadata": {},
   "outputs": [
    {
     "data": {
      "text/plain": [
       "(array([ 23.,  10.,  13.,   5.,   8.,   4.,   2.,   2.,   2.,   2.]),\n",
       " array([  1. ,   5.5,  10. ,  14.5,  19. ,  23.5,  28. ,  32.5,  37. ,\n",
       "         41.5,  46. ]),\n",
       " <a list of 10 Patch objects>)"
      ]
     },
     "execution_count": 135,
     "metadata": {},
     "output_type": "execute_result"
    },
    {
     "data": {
      "image/png": "[encoded data removed]",
      "text/plain": [
       "<matplotlib.figure.Figure at 0x24438779f28>"
      ]
     },
     "metadata": {},
     "output_type": "display_data"
    }
   ],
   "source": [
    "plt.hist(muRecordW['WScore'] - muRecordW['LScore'])"
   ]
  },
  {
   "cell_type": "code",
   "execution_count": 136,
   "metadata": {},
   "outputs": [
    {
     "name": "stdout",
     "output_type": "stream",
     "text": [
      "        Season  WTeamID  WScore  LTeamID  LScore WLoc  NumOT\n",
      "136124    2015     1266      83     1105      49    H      0\n",
      "140922    2016     1266      95     1212      49    H      0\n",
      "141054    2016     1266     104     1263      67    H      0\n",
      "145485    2017     1266      81     1224      49    H      0\n",
      "146311    2017     1266      90     1441      44    H      0\n",
      "147117    2017     1266      89     1188      56    H      0\n",
      "152538    2018     1266      92     1110      51    H      0\n"
     ]
    }
   ],
   "source": [
    "bigWins = muRecordW[(muRecordW.WScore - muRecordW.LScore)> 30]\n",
    "print(bigWins)"
   ]
  },
  {
   "cell_type": "code",
   "execution_count": 137,
   "metadata": {},
   "outputs": [
    {
     "name": "stdout",
     "output_type": "stream",
     "text": [
      "        Season  WTeamID  WScore  LTeamID  LScore WLoc  NumOT  Difference\n",
      "139842    2015     1437      84     1266      49    N      0          35\n",
      "1437\n"
     ]
    }
   ],
   "source": [
    "bigLosses = muRecordL[(muRecordL['WScore'] - muRecordL['LScore']) > 30]\n",
    "print(bigLosses)\n",
    "print(bigLosses.iloc[0,1])"
   ]
  },
  {
   "cell_type": "code",
   "execution_count": 138,
   "metadata": {},
   "outputs": [
    {
     "name": "stdout",
     "output_type": "stream",
     "text": [
      "Villanova\n"
     ]
    }
   ],
   "source": [
    "print(getTeamName(bigLosses.iloc[0,1]))"
   ]
  },
  {
   "cell_type": "code",
   "execution_count": 139,
   "metadata": {},
   "outputs": [
    {
     "name": "stdout",
     "output_type": "stream",
     "text": [
      "        Season  WTeamID  WScore  LTeamID  LScore WLoc  NumOT    Win\n",
      "140130    2016     1266      75     1237      71    H      1   True\n",
      "140525    2016     1266      78     1113      73    N      1   True\n",
      "143853    2016     1266      96     1344      91    H      2   True\n",
      "147912    2017     1266      89     1371      86    H      1   True\n",
      "151617    2018     1266      86     1183      83    H      1   True\n",
      "152980    2018     1266      95     1344      90    A      1   True\n",
      "155595    2018     1266      90     1207      86    A      1   True\n",
      "137657    2015     1207      95     1266      85    A      1  False\n",
      "137954    2015     1139      72     1266      68    A      1  False\n"
     ]
    }
   ],
   "source": [
    "OT = muRecord[muRecord['NumOT'] != 0]\n",
    "print(OT)"
   ]
  },
  {
   "cell_type": "code",
   "execution_count": 140,
   "metadata": {},
   "outputs": [],
   "source": [
    "creightID = getTeamID('Creighton')"
   ]
  },
  {
   "cell_type": "code",
   "execution_count": 143,
   "metadata": {},
   "outputs": [
    {
     "name": "stdout",
     "output_type": "stream",
     "text": [
      "        Season  WTeamID  WScore  LTeamID  LScore WLoc  NumOT    Win\n",
      "137190    2015     1266      53     1166      52    H      0   True\n",
      "144523    2016     1266      66     1166      61    A      0   True\n",
      "148406    2017     1266     102     1166      94    A      0   True\n",
      "150385    2017     1266      91     1166      83    H      0   True\n",
      "155143    2018     1266      90     1166      86    A      0   True\n",
      "155805    2018     1266      85     1166      81    H      0   True\n",
      "138624    2015     1166      77     1266      70    H      0  False\n",
      "143980    2016     1166      65     1266      62    A      0  False\n"
     ]
    }
   ],
   "source": [
    "muVCreight = muRecord[(muRecord['LTeamID'] == creightID) | (muRecord['WTeamID'] == creightID)]\n",
    "print(muVCreight)"
   ]
  },
  {
   "cell_type": "code",
   "execution_count": 144,
   "metadata": {},
   "outputs": [
    {
     "data": {
      "text/plain": [
       "<matplotlib.collections.PathCollection at 0x244389d4eb8>"
      ]
     },
     "execution_count": 144,
     "metadata": {},
     "output_type": "execute_result"
    },
    {
     "data": {
      "image/png": "[encoded data removed]",
      "text/plain": [
       "<matplotlib.figure.Figure at 0x244388e55c0>"
      ]
     },
     "metadata": {},
     "output_type": "display_data"
    }
   ],
   "source": [
    "plt.scatter(muVCreight.WScore, muVCreight.LScore, c = muVCreight.Win)"
   ]
  },
  {
   "cell_type": "code",
   "execution_count": null,
   "metadata": {
    "collapsed": true
   },
   "outputs": [],
   "source": []
  }
 ],
 "metadata": {
  "kernelspec": {
   "display_name": "Python 3",
   "language": "python",
   "name": "python3"
  },
  "language_info": {
   "codemirror_mode": {
    "name": "ipython",
    "version": 3
   },
   "file_extension": ".py",
   "mimetype": "text/x-python",
   "name": "python",
   "nbconvert_exporter": "python",
   "pygments_lexer": "ipython3",
   "version": "3.6.1"
  }
 },
 "nbformat": 4,
 "nbformat_minor": 2
}
