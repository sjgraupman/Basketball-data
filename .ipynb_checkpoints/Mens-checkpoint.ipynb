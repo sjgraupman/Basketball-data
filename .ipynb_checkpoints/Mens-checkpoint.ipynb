{
 "cells": [
  {
   "cell_type": "code",
   "execution_count": 6,
   "metadata": {
    "collapsed": true
   },
   "outputs": [],
   "source": [
    "import pandas as pd\n",
    "import matplotlib.pyplot as plt\n",
    "import numpy as np\n",
    "%matplotlib inline"
   ]
  },
  {
   "cell_type": "code",
   "execution_count": 7,
   "metadata": {},
   "outputs": [
    {
     "data": {
      "text/html": [
       "<div>\n",
       "<style>\n",
       "    .dataframe thead tr:only-child th {\n",
       "        text-align: right;\n",
       "    }\n",
       "\n",
       "    .dataframe thead th {\n",
       "        text-align: left;\n",
       "    }\n",
       "\n",
       "    .dataframe tbody tr th {\n",
       "        vertical-align: top;\n",
       "    }\n",
       "</style>\n",
       "<table border=\"1\" class=\"dataframe\">\n",
       "  <thead>\n",
       "    <tr style=\"text-align: right;\">\n",
       "      <th></th>\n",
       "      <th>TeamID</th>\n",
       "      <th>TeamName</th>\n",
       "      <th>FirstD1Season</th>\n",
       "      <th>LastD1Season</th>\n",
       "    </tr>\n",
       "  </thead>\n",
       "  <tbody>\n",
       "    <tr>\n",
       "      <th>0</th>\n",
       "      <td>1101</td>\n",
       "      <td>Abilene Chr</td>\n",
       "      <td>2014</td>\n",
       "      <td>2018</td>\n",
       "    </tr>\n",
       "    <tr>\n",
       "      <th>1</th>\n",
       "      <td>1102</td>\n",
       "      <td>Air Force</td>\n",
       "      <td>1985</td>\n",
       "      <td>2018</td>\n",
       "    </tr>\n",
       "    <tr>\n",
       "      <th>2</th>\n",
       "      <td>1103</td>\n",
       "      <td>Akron</td>\n",
       "      <td>1985</td>\n",
       "      <td>2018</td>\n",
       "    </tr>\n",
       "    <tr>\n",
       "      <th>3</th>\n",
       "      <td>1104</td>\n",
       "      <td>Alabama</td>\n",
       "      <td>1985</td>\n",
       "      <td>2018</td>\n",
       "    </tr>\n",
       "    <tr>\n",
       "      <th>4</th>\n",
       "      <td>1105</td>\n",
       "      <td>Alabama A&amp;M</td>\n",
       "      <td>2000</td>\n",
       "      <td>2018</td>\n",
       "    </tr>\n",
       "  </tbody>\n",
       "</table>\n",
       "</div>"
      ],
      "text/plain": [
       "   TeamID     TeamName  FirstD1Season  LastD1Season\n",
       "0    1101  Abilene Chr           2014          2018\n",
       "1    1102    Air Force           1985          2018\n",
       "2    1103        Akron           1985          2018\n",
       "3    1104      Alabama           1985          2018\n",
       "4    1105  Alabama A&M           2000          2018"
      ]
     },
     "execution_count": 7,
     "metadata": {},
     "output_type": "execute_result"
    }
   ],
   "source": [
    "# Read in Teams\n",
    "teams = pd.read_csv(\"MensBBall\\Teams.csv\")\n",
    "teams.head()"
   ]
  },
  {
   "cell_type": "code",
   "execution_count": 8,
   "metadata": {},
   "outputs": [
    {
     "data": {
      "text/html": [
       "<div>\n",
       "<style>\n",
       "    .dataframe thead tr:only-child th {\n",
       "        text-align: right;\n",
       "    }\n",
       "\n",
       "    .dataframe thead th {\n",
       "        text-align: left;\n",
       "    }\n",
       "\n",
       "    .dataframe tbody tr th {\n",
       "        vertical-align: top;\n",
       "    }\n",
       "</style>\n",
       "<table border=\"1\" class=\"dataframe\">\n",
       "  <thead>\n",
       "    <tr style=\"text-align: right;\">\n",
       "      <th></th>\n",
       "      <th>Season</th>\n",
       "      <th>DayNum</th>\n",
       "      <th>WTeamID</th>\n",
       "      <th>WScore</th>\n",
       "      <th>LTeamID</th>\n",
       "      <th>LScore</th>\n",
       "      <th>WLoc</th>\n",
       "      <th>NumOT</th>\n",
       "    </tr>\n",
       "  </thead>\n",
       "  <tbody>\n",
       "    <tr>\n",
       "      <th>0</th>\n",
       "      <td>1985</td>\n",
       "      <td>20</td>\n",
       "      <td>1228</td>\n",
       "      <td>81</td>\n",
       "      <td>1328</td>\n",
       "      <td>64</td>\n",
       "      <td>N</td>\n",
       "      <td>0</td>\n",
       "    </tr>\n",
       "    <tr>\n",
       "      <th>1</th>\n",
       "      <td>1985</td>\n",
       "      <td>25</td>\n",
       "      <td>1106</td>\n",
       "      <td>77</td>\n",
       "      <td>1354</td>\n",
       "      <td>70</td>\n",
       "      <td>H</td>\n",
       "      <td>0</td>\n",
       "    </tr>\n",
       "    <tr>\n",
       "      <th>2</th>\n",
       "      <td>1985</td>\n",
       "      <td>25</td>\n",
       "      <td>1112</td>\n",
       "      <td>63</td>\n",
       "      <td>1223</td>\n",
       "      <td>56</td>\n",
       "      <td>H</td>\n",
       "      <td>0</td>\n",
       "    </tr>\n",
       "    <tr>\n",
       "      <th>3</th>\n",
       "      <td>1985</td>\n",
       "      <td>25</td>\n",
       "      <td>1165</td>\n",
       "      <td>70</td>\n",
       "      <td>1432</td>\n",
       "      <td>54</td>\n",
       "      <td>H</td>\n",
       "      <td>0</td>\n",
       "    </tr>\n",
       "    <tr>\n",
       "      <th>4</th>\n",
       "      <td>1985</td>\n",
       "      <td>25</td>\n",
       "      <td>1192</td>\n",
       "      <td>86</td>\n",
       "      <td>1447</td>\n",
       "      <td>74</td>\n",
       "      <td>H</td>\n",
       "      <td>0</td>\n",
       "    </tr>\n",
       "  </tbody>\n",
       "</table>\n",
       "</div>"
      ],
      "text/plain": [
       "   Season  DayNum  WTeamID  WScore  LTeamID  LScore WLoc  NumOT\n",
       "0    1985      20     1228      81     1328      64    N      0\n",
       "1    1985      25     1106      77     1354      70    H      0\n",
       "2    1985      25     1112      63     1223      56    H      0\n",
       "3    1985      25     1165      70     1432      54    H      0\n",
       "4    1985      25     1192      86     1447      74    H      0"
      ]
     },
     "execution_count": 8,
     "metadata": {},
     "output_type": "execute_result"
    }
   ],
   "source": [
    "# Read in Regular Season Results\n",
    "regularSeasonResults = pd.read_csv(\"MensBBall\\RegularSeasonCompactResults.csv\")\n",
    "regularSeasonResults.head()"
   ]
  },
  {
   "cell_type": "code",
   "execution_count": 9,
   "metadata": {
    "scrolled": true
   },
   "outputs": [
    {
     "data": {
      "text/html": [
       "<div>\n",
       "<style>\n",
       "    .dataframe thead tr:only-child th {\n",
       "        text-align: right;\n",
       "    }\n",
       "\n",
       "    .dataframe thead th {\n",
       "        text-align: left;\n",
       "    }\n",
       "\n",
       "    .dataframe tbody tr th {\n",
       "        vertical-align: top;\n",
       "    }\n",
       "</style>\n",
       "<table border=\"1\" class=\"dataframe\">\n",
       "  <thead>\n",
       "    <tr style=\"text-align: right;\">\n",
       "      <th></th>\n",
       "      <th>Season</th>\n",
       "      <th>WTeamID</th>\n",
       "      <th>WScore</th>\n",
       "      <th>LTeamID</th>\n",
       "      <th>LScore</th>\n",
       "      <th>WLoc</th>\n",
       "      <th>NumOT</th>\n",
       "    </tr>\n",
       "  </thead>\n",
       "  <tbody>\n",
       "    <tr>\n",
       "      <th>113385</th>\n",
       "      <td>2011</td>\n",
       "      <td>1228</td>\n",
       "      <td>79</td>\n",
       "      <td>1414</td>\n",
       "      <td>65</td>\n",
       "      <td>H</td>\n",
       "      <td>0</td>\n",
       "    </tr>\n",
       "    <tr>\n",
       "      <th>113386</th>\n",
       "      <td>2011</td>\n",
       "      <td>1268</td>\n",
       "      <td>105</td>\n",
       "      <td>1370</td>\n",
       "      <td>76</td>\n",
       "      <td>H</td>\n",
       "      <td>0</td>\n",
       "    </tr>\n",
       "    <tr>\n",
       "      <th>113387</th>\n",
       "      <td>2011</td>\n",
       "      <td>1338</td>\n",
       "      <td>83</td>\n",
       "      <td>1348</td>\n",
       "      <td>75</td>\n",
       "      <td>H</td>\n",
       "      <td>0</td>\n",
       "    </tr>\n",
       "    <tr>\n",
       "      <th>113388</th>\n",
       "      <td>2011</td>\n",
       "      <td>1400</td>\n",
       "      <td>83</td>\n",
       "      <td>1298</td>\n",
       "      <td>52</td>\n",
       "      <td>H</td>\n",
       "      <td>0</td>\n",
       "    </tr>\n",
       "    <tr>\n",
       "      <th>113389</th>\n",
       "      <td>2011</td>\n",
       "      <td>1228</td>\n",
       "      <td>84</td>\n",
       "      <td>1405</td>\n",
       "      <td>45</td>\n",
       "      <td>H</td>\n",
       "      <td>0</td>\n",
       "    </tr>\n",
       "  </tbody>\n",
       "</table>\n",
       "</div>"
      ],
      "text/plain": [
       "        Season  WTeamID  WScore  LTeamID  LScore WLoc  NumOT\n",
       "113385    2011     1228      79     1414      65    H      0\n",
       "113386    2011     1268     105     1370      76    H      0\n",
       "113387    2011     1338      83     1348      75    H      0\n",
       "113388    2011     1400      83     1298      52    H      0\n",
       "113389    2011     1228      84     1405      45    H      0"
      ]
     },
     "execution_count": 9,
     "metadata": {},
     "output_type": "execute_result"
    }
   ],
   "source": [
    "# Get rid of DayNum and limit to 2010 or later\n",
    "regularSeasonResults.drop(labels = ['DayNum'], inplace = True, axis = 1)\n",
    "regularSeasonResults = regularSeasonResults[regularSeasonResults['Season'] > 2010]\n",
    "regularSeasonResults.head()"
   ]
  },
  {
   "cell_type": "code",
   "execution_count": 10,
   "metadata": {},
   "outputs": [
    {
     "data": {
      "text/html": [
       "<div>\n",
       "<style>\n",
       "    .dataframe thead tr:only-child th {\n",
       "        text-align: right;\n",
       "    }\n",
       "\n",
       "    .dataframe thead th {\n",
       "        text-align: left;\n",
       "    }\n",
       "\n",
       "    .dataframe tbody tr th {\n",
       "        vertical-align: top;\n",
       "    }\n",
       "</style>\n",
       "<table border=\"1\" class=\"dataframe\">\n",
       "  <thead>\n",
       "    <tr style=\"text-align: right;\">\n",
       "      <th></th>\n",
       "      <th>Season</th>\n",
       "      <th>WTeamID</th>\n",
       "      <th>WScore</th>\n",
       "      <th>LTeamID</th>\n",
       "      <th>LScore</th>\n",
       "      <th>WLoc</th>\n",
       "      <th>NumOT</th>\n",
       "    </tr>\n",
       "  </thead>\n",
       "  <tbody>\n",
       "    <tr>\n",
       "      <th>113386</th>\n",
       "      <td>2011</td>\n",
       "      <td>1268</td>\n",
       "      <td>105</td>\n",
       "      <td>1370</td>\n",
       "      <td>76</td>\n",
       "      <td>H</td>\n",
       "      <td>0</td>\n",
       "    </tr>\n",
       "    <tr>\n",
       "      <th>113418</th>\n",
       "      <td>2011</td>\n",
       "      <td>1211</td>\n",
       "      <td>117</td>\n",
       "      <td>1380</td>\n",
       "      <td>72</td>\n",
       "      <td>H</td>\n",
       "      <td>0</td>\n",
       "    </tr>\n",
       "    <tr>\n",
       "      <th>113426</th>\n",
       "      <td>2011</td>\n",
       "      <td>1242</td>\n",
       "      <td>113</td>\n",
       "      <td>1255</td>\n",
       "      <td>75</td>\n",
       "      <td>H</td>\n",
       "      <td>0</td>\n",
       "    </tr>\n",
       "    <tr>\n",
       "      <th>113437</th>\n",
       "      <td>2011</td>\n",
       "      <td>1272</td>\n",
       "      <td>104</td>\n",
       "      <td>1147</td>\n",
       "      <td>40</td>\n",
       "      <td>H</td>\n",
       "      <td>0</td>\n",
       "    </tr>\n",
       "    <tr>\n",
       "      <th>113453</th>\n",
       "      <td>2011</td>\n",
       "      <td>1326</td>\n",
       "      <td>102</td>\n",
       "      <td>1299</td>\n",
       "      <td>61</td>\n",
       "      <td>H</td>\n",
       "      <td>0</td>\n",
       "    </tr>\n",
       "  </tbody>\n",
       "</table>\n",
       "</div>"
      ],
      "text/plain": [
       "        Season  WTeamID  WScore  LTeamID  LScore WLoc  NumOT\n",
       "113386    2011     1268     105     1370      76    H      0\n",
       "113418    2011     1211     117     1380      72    H      0\n",
       "113426    2011     1242     113     1255      75    H      0\n",
       "113437    2011     1272     104     1147      40    H      0\n",
       "113453    2011     1326     102     1299      61    H      0"
      ]
     },
     "execution_count": 10,
     "metadata": {},
     "output_type": "execute_result"
    }
   ],
   "source": [
    "# highest scoring games\n",
    "highScores = regularSeasonResults[regularSeasonResults['WScore'] > 100]\n",
    "highScores.head()"
   ]
  },
  {
   "cell_type": "code",
   "execution_count": 11,
   "metadata": {
    "scrolled": false
   },
   "outputs": [
    {
     "data": {
      "text/html": [
       "<div>\n",
       "<style>\n",
       "    .dataframe thead tr:only-child th {\n",
       "        text-align: right;\n",
       "    }\n",
       "\n",
       "    .dataframe thead th {\n",
       "        text-align: left;\n",
       "    }\n",
       "\n",
       "    .dataframe tbody tr th {\n",
       "        vertical-align: top;\n",
       "    }\n",
       "</style>\n",
       "<table border=\"1\" class=\"dataframe\">\n",
       "  <thead>\n",
       "    <tr style=\"text-align: right;\">\n",
       "      <th></th>\n",
       "      <th>Season</th>\n",
       "      <th>WTeamID</th>\n",
       "      <th>WScore</th>\n",
       "      <th>LTeamID</th>\n",
       "      <th>LScore</th>\n",
       "      <th>WLoc</th>\n",
       "      <th>NumOT</th>\n",
       "    </tr>\n",
       "  </thead>\n",
       "  <tbody>\n",
       "    <tr>\n",
       "      <th>113621</th>\n",
       "      <td>2011</td>\n",
       "      <td>1214</td>\n",
       "      <td>45</td>\n",
       "      <td>1457</td>\n",
       "      <td>44</td>\n",
       "      <td>N</td>\n",
       "      <td>0</td>\n",
       "    </tr>\n",
       "    <tr>\n",
       "      <th>114393</th>\n",
       "      <td>2011</td>\n",
       "      <td>1193</td>\n",
       "      <td>41</td>\n",
       "      <td>1366</td>\n",
       "      <td>39</td>\n",
       "      <td>A</td>\n",
       "      <td>0</td>\n",
       "    </tr>\n",
       "    <tr>\n",
       "      <th>114462</th>\n",
       "      <td>2011</td>\n",
       "      <td>1192</td>\n",
       "      <td>48</td>\n",
       "      <td>1148</td>\n",
       "      <td>46</td>\n",
       "      <td>H</td>\n",
       "      <td>0</td>\n",
       "    </tr>\n",
       "    <tr>\n",
       "      <th>114889</th>\n",
       "      <td>2011</td>\n",
       "      <td>1150</td>\n",
       "      <td>49</td>\n",
       "      <td>1397</td>\n",
       "      <td>48</td>\n",
       "      <td>H</td>\n",
       "      <td>0</td>\n",
       "    </tr>\n",
       "    <tr>\n",
       "      <th>115173</th>\n",
       "      <td>2011</td>\n",
       "      <td>1374</td>\n",
       "      <td>49</td>\n",
       "      <td>1106</td>\n",
       "      <td>38</td>\n",
       "      <td>H</td>\n",
       "      <td>0</td>\n",
       "    </tr>\n",
       "  </tbody>\n",
       "</table>\n",
       "</div>"
      ],
      "text/plain": [
       "        Season  WTeamID  WScore  LTeamID  LScore WLoc  NumOT\n",
       "113621    2011     1214      45     1457      44    N      0\n",
       "114393    2011     1193      41     1366      39    A      0\n",
       "114462    2011     1192      48     1148      46    H      0\n",
       "114889    2011     1150      49     1397      48    H      0\n",
       "115173    2011     1374      49     1106      38    H      0"
      ]
     },
     "execution_count": 11,
     "metadata": {},
     "output_type": "execute_result"
    }
   ],
   "source": [
    "# Lowest Storing Games\n",
    "\n",
    "lowScores = regularSeasonResults[regularSeasonResults['WScore'] < 50]\n",
    "lowScores.head()"
   ]
  },
  {
   "cell_type": "code",
   "execution_count": 24,
   "metadata": {},
   "outputs": [],
   "source": [
    "def getTeamID(teamName):\n",
    "    teamRecord = teams[teams['TeamName'] == teamName];\n",
    "    return teamRecord.iloc[0, 0]\n",
    "\n",
    "marquetteID = getTeamID('Marquette')"
   ]
  },
  {
   "cell_type": "code",
   "execution_count": 28,
   "metadata": {},
   "outputs": [],
   "source": [
    "def getWinningGames(teamID, results): \n",
    "    return results[results['WTeamID'] == teamID]\n",
    "\n",
    "def getLosingGames(teamID, results):\n",
    "    return results[results['LTeamID'] == teamID]\n"
   ]
  },
  {
   "cell_type": "code",
   "execution_count": 30,
   "metadata": {},
   "outputs": [
    {
     "data": {
      "text/html": [
       "<div>\n",
       "<style>\n",
       "    .dataframe thead tr:only-child th {\n",
       "        text-align: right;\n",
       "    }\n",
       "\n",
       "    .dataframe thead th {\n",
       "        text-align: left;\n",
       "    }\n",
       "\n",
       "    .dataframe tbody tr th {\n",
       "        vertical-align: top;\n",
       "    }\n",
       "</style>\n",
       "<table border=\"1\" class=\"dataframe\">\n",
       "  <thead>\n",
       "    <tr style=\"text-align: right;\">\n",
       "      <th></th>\n",
       "      <th>Season</th>\n",
       "      <th>WTeamID</th>\n",
       "      <th>WScore</th>\n",
       "      <th>LTeamID</th>\n",
       "      <th>LScore</th>\n",
       "      <th>WLoc</th>\n",
       "      <th>NumOT</th>\n",
       "    </tr>\n",
       "  </thead>\n",
       "  <tbody>\n",
       "    <tr>\n",
       "      <th>113923</th>\n",
       "      <td>2011</td>\n",
       "      <td>1181</td>\n",
       "      <td>82</td>\n",
       "      <td>1266</td>\n",
       "      <td>77</td>\n",
       "      <td>N</td>\n",
       "      <td>0</td>\n",
       "    </tr>\n",
       "    <tr>\n",
       "      <th>113973</th>\n",
       "      <td>2011</td>\n",
       "      <td>1211</td>\n",
       "      <td>66</td>\n",
       "      <td>1266</td>\n",
       "      <td>63</td>\n",
       "      <td>N</td>\n",
       "      <td>0</td>\n",
       "    </tr>\n",
       "    <tr>\n",
       "      <th>114792</th>\n",
       "      <td>2011</td>\n",
       "      <td>1458</td>\n",
       "      <td>69</td>\n",
       "      <td>1266</td>\n",
       "      <td>64</td>\n",
       "      <td>A</td>\n",
       "      <td>0</td>\n",
       "    </tr>\n",
       "    <tr>\n",
       "      <th>115341</th>\n",
       "      <td>2011</td>\n",
       "      <td>1435</td>\n",
       "      <td>77</td>\n",
       "      <td>1266</td>\n",
       "      <td>76</td>\n",
       "      <td>H</td>\n",
       "      <td>0</td>\n",
       "    </tr>\n",
       "    <tr>\n",
       "      <th>115787</th>\n",
       "      <td>2011</td>\n",
       "      <td>1338</td>\n",
       "      <td>89</td>\n",
       "      <td>1266</td>\n",
       "      <td>81</td>\n",
       "      <td>H</td>\n",
       "      <td>0</td>\n",
       "    </tr>\n",
       "  </tbody>\n",
       "</table>\n",
       "</div>"
      ],
      "text/plain": [
       "        Season  WTeamID  WScore  LTeamID  LScore WLoc  NumOT\n",
       "113923    2011     1181      82     1266      77    N      0\n",
       "113973    2011     1211      66     1266      63    N      0\n",
       "114792    2011     1458      69     1266      64    A      0\n",
       "115341    2011     1435      77     1266      76    H      0\n",
       "115787    2011     1338      89     1266      81    H      0"
      ]
     },
     "execution_count": 30,
     "metadata": {},
     "output_type": "execute_result"
    }
   ],
   "source": [
    "muRecordL = getLosingGames(marquetteID, regularSeasonResults)\n",
    "muRecordW = getWinningGames(marquetteID, regularSeasonResults)\n",
    "muRecordL.head()"
   ]
  },
  {
   "cell_type": "code",
   "execution_count": 31,
   "metadata": {},
   "outputs": [
    {
     "data": {
      "text/html": [
       "<div>\n",
       "<style>\n",
       "    .dataframe thead tr:only-child th {\n",
       "        text-align: right;\n",
       "    }\n",
       "\n",
       "    .dataframe thead th {\n",
       "        text-align: left;\n",
       "    }\n",
       "\n",
       "    .dataframe tbody tr th {\n",
       "        vertical-align: top;\n",
       "    }\n",
       "</style>\n",
       "<table border=\"1\" class=\"dataframe\">\n",
       "  <thead>\n",
       "    <tr style=\"text-align: right;\">\n",
       "      <th></th>\n",
       "      <th>Season</th>\n",
       "      <th>WTeamID</th>\n",
       "      <th>WScore</th>\n",
       "      <th>LTeamID</th>\n",
       "      <th>LScore</th>\n",
       "      <th>WLoc</th>\n",
       "      <th>NumOT</th>\n",
       "    </tr>\n",
       "  </thead>\n",
       "  <tbody>\n",
       "    <tr>\n",
       "      <th>113923</th>\n",
       "      <td>2011</td>\n",
       "      <td>1181</td>\n",
       "      <td>82</td>\n",
       "      <td>1266</td>\n",
       "      <td>77</td>\n",
       "      <td>N</td>\n",
       "      <td>0</td>\n",
       "    </tr>\n",
       "    <tr>\n",
       "      <th>113973</th>\n",
       "      <td>2011</td>\n",
       "      <td>1211</td>\n",
       "      <td>66</td>\n",
       "      <td>1266</td>\n",
       "      <td>63</td>\n",
       "      <td>N</td>\n",
       "      <td>0</td>\n",
       "    </tr>\n",
       "    <tr>\n",
       "      <th>114792</th>\n",
       "      <td>2011</td>\n",
       "      <td>1458</td>\n",
       "      <td>69</td>\n",
       "      <td>1266</td>\n",
       "      <td>64</td>\n",
       "      <td>A</td>\n",
       "      <td>0</td>\n",
       "    </tr>\n",
       "    <tr>\n",
       "      <th>115341</th>\n",
       "      <td>2011</td>\n",
       "      <td>1435</td>\n",
       "      <td>77</td>\n",
       "      <td>1266</td>\n",
       "      <td>76</td>\n",
       "      <td>H</td>\n",
       "      <td>0</td>\n",
       "    </tr>\n",
       "    <tr>\n",
       "      <th>115787</th>\n",
       "      <td>2011</td>\n",
       "      <td>1338</td>\n",
       "      <td>89</td>\n",
       "      <td>1266</td>\n",
       "      <td>81</td>\n",
       "      <td>H</td>\n",
       "      <td>0</td>\n",
       "    </tr>\n",
       "  </tbody>\n",
       "</table>\n",
       "</div>"
      ],
      "text/plain": [
       "        Season  WTeamID  WScore  LTeamID  LScore WLoc  NumOT\n",
       "113923    2011     1181      82     1266      77    N      0\n",
       "113973    2011     1211      66     1266      63    N      0\n",
       "114792    2011     1458      69     1266      64    A      0\n",
       "115341    2011     1435      77     1266      76    H      0\n",
       "115787    2011     1338      89     1266      81    H      0"
      ]
     },
     "execution_count": 31,
     "metadata": {},
     "output_type": "execute_result"
    }
   ],
   "source": [
    "muRecord = muRecordL.append(muRecordW)\n",
    "muRecord.head()"
   ]
  },
  {
   "cell_type": "code",
   "execution_count": 47,
   "metadata": {},
   "outputs": [
    {
     "data": {
      "text/html": [
       "<div>\n",
       "<style>\n",
       "    .dataframe thead tr:only-child th {\n",
       "        text-align: right;\n",
       "    }\n",
       "\n",
       "    .dataframe thead th {\n",
       "        text-align: left;\n",
       "    }\n",
       "\n",
       "    .dataframe tbody tr th {\n",
       "        vertical-align: top;\n",
       "    }\n",
       "</style>\n",
       "<table border=\"1\" class=\"dataframe\">\n",
       "  <thead>\n",
       "    <tr style=\"text-align: right;\">\n",
       "      <th></th>\n",
       "      <th>Season</th>\n",
       "      <th>WTeamID</th>\n",
       "      <th>WScore</th>\n",
       "      <th>LTeamID</th>\n",
       "      <th>LScore</th>\n",
       "      <th>WLoc</th>\n",
       "      <th>NumOT</th>\n",
       "      <th>MUWin</th>\n",
       "    </tr>\n",
       "  </thead>\n",
       "  <tbody>\n",
       "    <tr>\n",
       "      <th>113923</th>\n",
       "      <td>2011</td>\n",
       "      <td>1181</td>\n",
       "      <td>82</td>\n",
       "      <td>1266</td>\n",
       "      <td>77</td>\n",
       "      <td>N</td>\n",
       "      <td>0</td>\n",
       "      <td>False</td>\n",
       "    </tr>\n",
       "    <tr>\n",
       "      <th>113973</th>\n",
       "      <td>2011</td>\n",
       "      <td>1211</td>\n",
       "      <td>66</td>\n",
       "      <td>1266</td>\n",
       "      <td>63</td>\n",
       "      <td>N</td>\n",
       "      <td>0</td>\n",
       "      <td>False</td>\n",
       "    </tr>\n",
       "    <tr>\n",
       "      <th>114792</th>\n",
       "      <td>2011</td>\n",
       "      <td>1458</td>\n",
       "      <td>69</td>\n",
       "      <td>1266</td>\n",
       "      <td>64</td>\n",
       "      <td>A</td>\n",
       "      <td>0</td>\n",
       "      <td>False</td>\n",
       "    </tr>\n",
       "    <tr>\n",
       "      <th>115341</th>\n",
       "      <td>2011</td>\n",
       "      <td>1435</td>\n",
       "      <td>77</td>\n",
       "      <td>1266</td>\n",
       "      <td>76</td>\n",
       "      <td>H</td>\n",
       "      <td>0</td>\n",
       "      <td>False</td>\n",
       "    </tr>\n",
       "    <tr>\n",
       "      <th>115787</th>\n",
       "      <td>2011</td>\n",
       "      <td>1338</td>\n",
       "      <td>89</td>\n",
       "      <td>1266</td>\n",
       "      <td>81</td>\n",
       "      <td>H</td>\n",
       "      <td>0</td>\n",
       "      <td>False</td>\n",
       "    </tr>\n",
       "  </tbody>\n",
       "</table>\n",
       "</div>"
      ],
      "text/plain": [
       "        Season  WTeamID  WScore  LTeamID  LScore WLoc  NumOT  MUWin\n",
       "113923    2011     1181      82     1266      77    N      0  False\n",
       "113973    2011     1211      66     1266      63    N      0  False\n",
       "114792    2011     1458      69     1266      64    A      0  False\n",
       "115341    2011     1435      77     1266      76    H      0  False\n",
       "115787    2011     1338      89     1266      81    H      0  False"
      ]
     },
     "execution_count": 47,
     "metadata": {},
     "output_type": "execute_result"
    }
   ],
   "source": [
    "muRecord['MUWin'] = (muRecord['WTeamID'] == marquetteID)\n",
    "muRecord.head()"
   ]
  },
  {
   "cell_type": "code",
   "execution_count": 44,
   "metadata": {},
   "outputs": [
    {
     "data": {
      "text/plain": [
       "<matplotlib.collections.PathCollection at 0x1a681ca6ba8>"
      ]
     },
     "execution_count": 44,
     "metadata": {},
     "output_type": "execute_result"
    },
    {
     "data": {
      "image/png": "[encoded data removed]",
      "text/plain": [
       "<matplotlib.figure.Figure at 0x1a681c222e8>"
      ]
     },
     "metadata": {},
     "output_type": "display_data"
    }
   ],
   "source": [
    "colors = ['g', 'r']\n",
    "plt.scatter(muRecordW.WScore, muRecordW.LScore, c = 'g')\n",
    "plt.scatter(muRecordL.WScore, muRecordL.LScore, c = 'r')"
   ]
  },
  {
   "cell_type": "code",
   "execution_count": 54,
   "metadata": {},
   "outputs": [
    {
     "data": {
      "text/plain": [
       "(array([ 24.,  12.,  23.,   6.,   9.,  10.,   0.,   2.,   0.,   2.]),\n",
       " array([  1. ,   4.4,   7.8,  11.2,  14.6,  18. ,  21.4,  24.8,  28.2,\n",
       "         31.6,  35. ]),\n",
       " <a list of 10 Patch objects>)"
      ]
     },
     "execution_count": 54,
     "metadata": {},
     "output_type": "execute_result"
    },
    {
     "data": {
      "image/png": "[encoded data removed]",
      "text/plain": [
       "<matplotlib.figure.Figure at 0x1a6813cca58>"
      ]
     },
     "metadata": {},
     "output_type": "display_data"
    }
   ],
   "source": [
    "plt.hist(muRecordL['WScore'] - muRecordL['LScore'])"
   ]
  },
  {
   "cell_type": "code",
   "execution_count": 55,
   "metadata": {},
   "outputs": [
    {
     "data": {
      "text/plain": [
       "(array([ 39.,  35.,  13.,  22.,   8.,   8.,   7.,   2.,   2.,   1.]),\n",
       " array([  1. ,   6.3,  11.6,  16.9,  22.2,  27.5,  32.8,  38.1,  43.4,\n",
       "         48.7,  54. ]),\n",
       " <a list of 10 Patch objects>)"
      ]
     },
     "execution_count": 55,
     "metadata": {},
     "output_type": "execute_result"
    },
    {
     "data": {
      "image/png": "[encoded data removed]",
      "text/plain": [
       "<matplotlib.figure.Figure at 0x1a6808aaf60>"
      ]
     },
     "metadata": {},
     "output_type": "display_data"
    }
   ],
   "source": [
    "plt.hist(muRecordW['WScore'] - muRecordW['LScore'])"
   ]
  },
  {
   "cell_type": "code",
   "execution_count": 56,
   "metadata": {},
   "outputs": [
    {
     "name": "stdout",
     "output_type": "stream",
     "text": [
      "        Season  WTeamID  WScore  LTeamID  LScore WLoc  NumOT\n",
      "113435    2011     1266      97     1341      58    H      0\n",
      "114488    2011     1266      96     1255      65    H      0\n",
      "114601    2011     1266      86     1394      50    H      0\n",
      "118679    2012     1266      91     1291      37    H      0\n",
      "118833    2012     1266      99     1313      68    H      0\n",
      "119517    2012     1266      88     1239      56    H      0\n",
      "124731    2013     1266      79     1420      46    H      0\n",
      "129422    2014     1266     114     1212      71    H      0\n",
      "130669    2014     1266      86     1237      50    H      0\n",
      "130778    2014     1266      91     1123      53    H      0\n",
      "136124    2015     1266      83     1105      49    H      0\n",
      "140922    2016     1266      95     1212      49    H      0\n",
      "141054    2016     1266     104     1263      67    H      0\n",
      "145485    2017     1266      81     1224      49    H      0\n",
      "146311    2017     1266      90     1441      44    H      0\n",
      "147117    2017     1266      89     1188      56    H      0\n"
     ]
    }
   ],
   "source": [
    "bigWins = muRecordW[(muRecordW['WScore'] - muRecordW['LScore'])> 30]\n",
    "print(bigWins)"
   ]
  },
  {
   "cell_type": "code",
   "execution_count": 57,
   "metadata": {},
   "outputs": [
    {
     "name": "stdout",
     "output_type": "stream",
     "text": [
      "        Season  WTeamID  WScore  LTeamID  LScore WLoc  NumOT  MUWin\n",
      "126692    2013     1153      71     1266      69    H      1  False\n",
      "131960    2014     1139      69     1266      57    H      1  False\n",
      "132409    2014     1437      94     1266      85    A      1  False\n",
      "134111    2014     1344      81     1266      80    H      2  False\n",
      "134325    2014     1385      91     1266      90    A      2  False\n",
      "137657    2015     1207      95     1266      85    A      1  False\n",
      "137954    2015     1139      72     1266      68    A      1  False\n",
      "117948    2011     1266      74     1163      67    A      1   True\n",
      "125904    2013     1266      82     1163      76    H      1   True\n",
      "126411    2013     1266      74     1338      67    A      1   True\n",
      "128957    2013     1266      69     1385      67    A      1   True\n",
      "132124    2014     1266      80     1207      72    A      1   True\n",
      "133647    2014     1266      96     1177      94    A      1   True\n",
      "140130    2016     1266      75     1237      71    H      1   True\n",
      "140525    2016     1266      78     1113      73    N      1   True\n",
      "143853    2016     1266      96     1344      91    H      2   True\n",
      "147912    2017     1266      89     1371      86    H      1   True\n"
     ]
    }
   ],
   "source": [
    "OT = muRecord[muRecord['NumOT'] != 0]\n",
    "print(OT)"
   ]
  },
  {
   "cell_type": "code",
   "execution_count": 60,
   "metadata": {},
   "outputs": [
    {
     "name": "stdout",
     "output_type": "stream",
     "text": [
      "    TeamID   TeamName  FirstD1Season  LastD1Season\n",
      "65    1166  Creighton           1985          2018\n"
     ]
    }
   ],
   "source": [
    "creightID = teams[teams['TeamName'] == 'Creighton']\n",
    "creightID = creightID.at[65,'TeamID']"
   ]
  },
  {
   "cell_type": "code",
   "execution_count": 63,
   "metadata": {},
   "outputs": [
    {
     "name": "stdout",
     "output_type": "stream",
     "text": [
      "        Season  WTeamID  WScore  LTeamID  LScore WLoc  NumOT  MUWin\n",
      "131207    2014     1166      67     1266      49    H      0  False\n",
      "133469    2014     1166      85     1266      70    A      0  False\n",
      "138624    2015     1166      77     1266      70    H      0  False\n",
      "143980    2016     1166      65     1266      62    A      0  False\n",
      "137190    2015     1266      53     1166      52    H      0   True\n",
      "144523    2016     1266      66     1166      61    A      0   True\n",
      "148406    2017     1266     102     1166      94    A      0   True\n",
      "150385    2017     1266      91     1166      83    H      0   True\n"
     ]
    }
   ],
   "source": [
    "muVCreight = muRecord[(muRecord['LTeamID'] == creightID) | (muRecord['WTeamID'] == creightID)]\n",
    "print(muVCreight)"
   ]
  },
  {
   "cell_type": "code",
   "execution_count": 65,
   "metadata": {},
   "outputs": [
    {
     "data": {
      "text/plain": [
       "<matplotlib.collections.PathCollection at 0x1a682e64fd0>"
      ]
     },
     "execution_count": 65,
     "metadata": {},
     "output_type": "execute_result"
    },
    {
     "data": {
      "image/png": "[encoded data removed]",
      "text/plain": [
       "<matplotlib.figure.Figure at 0x1a682e02748>"
      ]
     },
     "metadata": {},
     "output_type": "display_data"
    }
   ],
   "source": [
    "plt.scatter(muVCreight.WScore, muVCreight.LScore, c = muVCreight.MUWin)"
   ]
  },
  {
   "cell_type": "code",
   "execution_count": null,
   "metadata": {
    "collapsed": true
   },
   "outputs": [],
   "source": []
  }
 ],
 "metadata": {
  "kernelspec": {
   "display_name": "Python 3",
   "language": "python",
   "name": "python3"
  },
  "language_info": {
   "codemirror_mode": {
    "name": "ipython",
    "version": 3
   },
   "file_extension": ".py",
   "mimetype": "text/x-python",
   "name": "python",
   "nbconvert_exporter": "python",
   "pygments_lexer": "ipython3",
   "version": "3.6.1"
  }
 },
 "nbformat": 4,
 "nbformat_minor": 2
}
